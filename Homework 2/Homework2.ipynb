{
  "cells": [
    {
      "cell_type": "markdown",
      "metadata": {},
      "source": [
        "### Imports"
      ]
    },
    {
      "cell_type": "code",
      "execution_count": 1,
      "metadata": {
        "id": "-pVTVgRkxSmV"
      },
      "outputs": [],
      "source": [
        "import pandas as pd\n",
        "import numpy as np\n",
        "import matplotlib.pyplot as plt\n",
        "import matplotlib.colors as colors\n",
        "from IPython import display"
      ]
    },
    {
      "cell_type": "markdown",
      "metadata": {},
      "source": [
        "### Key Parameters"
      ]
    },
    {
      "cell_type": "code",
      "execution_count": 2,
      "metadata": {
        "id": "Ex8-YPsi1B2Q"
      },
      "outputs": [],
      "source": [
        "# ANY PARAMETERS THAT WANT TO BE MODIFIED SHOULD BE MODIFIED HERE\n",
        "\n",
        "# length of matrix\n",
        "L = 40\n",
        "\n",
        "# number of neighbors for happiness\n",
        "k = 3\n",
        "\n",
        "# number of epochs\n",
        "N = 20\n",
        "\n",
        "# ratio of \"red\" and \"blue\" cells\n",
        "ratio_RB = 0.88\n",
        "\n",
        "# Relocation policy (OPTIONS: random, socialNetwork, custom1, custom2, custom3, custom4)\n",
        "relocPolicy = \"custom2\"\n",
        "\n",
        "# number of tries agents should go through in random relocation policy (q)\n",
        "q = 100\n",
        "\n",
        "# number of friends each agent has in the socialNetwork relocation policy (n)\n",
        "friend_num = 2\n",
        "\n",
        "# size of friend neighborhood to check (p)\n",
        "p = 3"
      ]
    },
    {
      "cell_type": "markdown",
      "metadata": {},
      "source": [
        "### Cellular Environment Initialization"
      ]
    },
    {
      "cell_type": "code",
      "execution_count": 3,
      "metadata": {},
      "outputs": [],
      "source": [
        "# Creating a 40x40 array filled with \"empty\" strings\n",
        "matrix = np.full((L, L), \"empty\", dtype=object)\n",
        "\n",
        "# Modify the matrix within the chosen cells with \"red\" and \"blue\"\n",
        "for i in range(int((ratio_RB * L**2) / 2)):\n",
        "  # Get a random coordinate to replace with either red or blue\n",
        "  red_x = np.random.randint(0, L)\n",
        "  red_y = np.random.randint(0, L)\n",
        "  blue_x = np.random.randint(0, L)\n",
        "  blue_y = np.random.randint(0, L)\n",
        "\n",
        "  # Keep searching for a coordinate space that's empty to place a new agent\n",
        "  while (matrix[red_x][red_y] != \"empty\"):\n",
        "    red_x = np.random.randint(0, L)\n",
        "    red_y = np.random.randint(0, L)\n",
        "\n",
        "  while(matrix[blue_x][blue_y] != \"empty\"):\n",
        "    blue_x = np.random.randint(0, L)\n",
        "    blue_y = np.random.randint(0, L)\n",
        "\n",
        "  # Add the correct agent color to that coordinate\n",
        "  matrix[red_x][red_y] = \"red\"\n",
        "  matrix[blue_x][blue_y] = \"blue\"\n",
        "\n",
        "# Convert the matrix NumPy array to a pandas DataFrame\n",
        "df = pd.DataFrame(matrix)"
      ]
    },
    {
      "cell_type": "code",
      "execution_count": 4,
      "metadata": {
        "colab": {
          "base_uri": "https://localhost:8080/",
          "height": 683
        },
        "id": "QQNkvKgq1Dqa",
        "outputId": "128091d9-a972-4d31-8184-f6d46c36dd44"
      },
      "outputs": [],
      "source": [
        "# Function: Print the cellular environment matrix\n",
        "\n",
        "def print_matrix(matrixDF):\n",
        "  # Copy original dataframe into a new DF to use for plotting\n",
        "  df_plot = matrixDF.copy()\n",
        "\n",
        "  # Convert \"red\" and \"blue\" to numerical values for plotting\n",
        "  df_plot.replace({\"empty\": 0, \"red\": 1, \"blue\": 2}, inplace=True)\n",
        "\n",
        "  #display new matrix dataframe\n",
        "  #CLEAR display.display(pl.clf())\n",
        "  plt.figure(figsize=(8, 8))\n",
        "  cmap = colors.LinearSegmentedColormap.from_list(\"\", [\"white\", \"red\", \"blue\"])\n",
        "  plt.imshow(df_plot, cmap=cmap, interpolation='nearest')\n",
        "  plt.colorbar(ticks=[0, 1, 2], label='Color')\n",
        "  plt.title('Neighborhood')\n",
        "  display.clear_output(wait=True)\n",
        "  display.display(plt.show())\n",
        "  #WAIT time.sleep(1.0)"
      ]
    },
    {
      "cell_type": "code",
      "execution_count": 5,
      "metadata": {},
      "outputs": [
        {
          "data": {
            "image/png": "[encoded data removed]",
            "text/plain": [
              "<Figure size 800x800 with 2 Axes>"
            ]
          },
          "metadata": {},
          "output_type": "display_data"
        },
        {
          "data": {
            "text/plain": [
              "None"
            ]
          },
          "metadata": {},
          "output_type": "display_data"
        }
      ],
      "source": [
        "print_matrix(df)"
      ]
    },
    {
      "cell_type": "markdown",
      "metadata": {},
      "source": [
        "### Happiness Functions"
      ]
    },
    {
      "cell_type": "code",
      "execution_count": 6,
      "metadata": {},
      "outputs": [],
      "source": [
        "# Function: Calculate number of neighbors that are the same color as the agent\n",
        "\n",
        "def num_same_neighbors(df, coords, agent_color):\n",
        "  # Extract coordinates of agent\n",
        "  row = coords[0]\n",
        "  col = coords[1]\n",
        "\n",
        "  # Keep track of how many neighbors are of the same color as the agent\n",
        "  same_neighbors = 0\n",
        "\n",
        "  # Calculate indexes of neighbors, making sure to loop back to other side of\n",
        "  # matrix to avoid border conditions\n",
        "  neighbors_indices = [\n",
        "    ((row-1) % df.shape[1], (col-1) % df.shape[1]),\n",
        "    ((row-1) % df.shape[1], col),\n",
        "    ((row-1) % df.shape[1], (col+1) % df.shape[1]),\n",
        "    (row, (col-1) % df.shape[1]),\n",
        "    (row, (col+1) % df.shape[1]),\n",
        "    ((row+1) % df.shape[0], (col-1)% df.shape[1]),\n",
        "    ((row+1) % df.shape[0], col),\n",
        "    ((row+1) % df.shape[0], (col+1) % df.shape[1])\n",
        "  ]\n",
        "\n",
        "  # Check every neighbor index to see if it matches color with agent\n",
        "  for index in neighbors_indices:\n",
        "    if (df[index[0]][index[1]] == agent_color):\n",
        "      # If the current neighbor is the same color, increase the counter\n",
        "      same_neighbors += 1\n",
        "\n",
        "  return same_neighbors"
      ]
    },
    {
      "cell_type": "code",
      "execution_count": 7,
      "metadata": {
        "id": "EMJ5nRSVrfuV"
      },
      "outputs": [],
      "source": [
        "# Function: Calculate if an agent is happy in their current neighborhood\n",
        "\n",
        "def is_happy(df, coords, agent_color):\n",
        "  # Calculate number of neighbors that are the same color as the agent\n",
        "  same_neighbors = num_same_neighbors(df, coords, agent_color)\n",
        "\n",
        "  # If the number of neighbors with the same color are bigger than the parameter k,\n",
        "  # then return that the agent is happy, otherwise return False\n",
        "  if (same_neighbors >= k):\n",
        "    return True\n",
        "  else:\n",
        "    return False"
      ]
    },
    {
      "cell_type": "code",
      "execution_count": 8,
      "metadata": {
        "id": "P2sqWnTDfvhn"
      },
      "outputs": [],
      "source": [
        "# Function: Calculate fractional happiness of a spot for an agent\n",
        "\n",
        "def happiness_function(df, coords, agent_color):\n",
        "  # Calculate number of neighbors that are the same color as the agent\n",
        "  same_neighbors = num_same_neighbors(df, coords, agent_color)\n",
        "\n",
        "  # Return a percentage based on k that tells you how close you are to the agent\n",
        "  # being happy, with the max percentage being 1\n",
        "  if (same_neighbors > k):\n",
        "    return 1\n",
        "  else:\n",
        "    return (same_neighbors / k)"
      ]
    },
    {
      "cell_type": "code",
      "execution_count": 9,
      "metadata": {},
      "outputs": [],
      "source": [
        "# Function: Calculate the % of happy agents\n",
        "\n",
        "def percent_happy(df):\n",
        "  happy_agents = 0\n",
        "\n",
        "  for i in range(L):\n",
        "    for j in range(L):\n",
        "      if (is_happy(df,(i,j),df[i][j])):\n",
        "        happy_agents += 1\n",
        "\n",
        "  return (happy_agents / (L * L)) * 100"
      ]
    },
    {
      "cell_type": "code",
      "execution_count": 10,
      "metadata": {
        "id": "Gl1aBZPj21wy"
      },
      "outputs": [],
      "source": [
        "# Function: Collect a list of all coordinates with empty spaces\n",
        "\n",
        "def collect_empty_spaces(matrix):\n",
        "  # Initialize empty list\n",
        "  empty_coords = []\n",
        "\n",
        "  # Iterate through dataframe and add the coordinate to the list if the location is empty\n",
        "  for i in range(matrix.shape[0]):\n",
        "    for j in range(matrix.shape[1]):\n",
        "      if matrix[i, j] == \"empty\":\n",
        "        empty_coords.append((i,j))\n",
        "\n",
        "  return empty_coords"
      ]
    },
    {
      "cell_type": "markdown",
      "metadata": {},
      "source": [
        "# Policy 1 - Random Move"
      ]
    },
    {
      "cell_type": "code",
      "execution_count": 11,
      "metadata": {
        "id": "-fjAGWHQheau"
      },
      "outputs": [],
      "source": [
        "# Function for Policy 1 - Random Move\n",
        "\n",
        "def random_move(df, empty_list, moving_agent):\n",
        "  # Get the agent's color\n",
        "  agent_color =  df[moving_agent[0]][moving_agent[1]]\n",
        "\n",
        "  # Choose one of the empty spaces at random\n",
        "  chosen_space = np.random.randint(0, len(empty_list))\n",
        "\n",
        "  # Keep track of the tries to find a good spot\n",
        "  num_tries = 0\n",
        "\n",
        "  # Keep track of happiness value of each option\n",
        "  happy_list = []\n",
        "\n",
        "  # Keep trying a space until one is found that is good for the agent or the tries run out\n",
        "  while ((not(is_happy(df, empty_list[chosen_space], agent_color))) and (num_tries < q)):\n",
        "    chosen_space = np.random.randint(0, len(empty_list))\n",
        "    # Append the happiness rating and the coordinate to the list\n",
        "    happy_list.append((happiness_function(df, empty_list[chosen_space], agent_color), empty_list[chosen_space]))\n",
        "    num_tries += 1\n",
        "\n",
        "  # If no spot was found where the agent is happy, move to the happiest\n",
        "  if (not(is_happy(df, empty_list[chosen_space], agent_color))):\n",
        "    chosen_space = max(happy_list)[1]\n",
        "\n",
        "  # Extract the coordinates for the chosen empty space\n",
        "  empty_x = empty_list[chosen_space][0]\n",
        "  empty_y = empty_list[chosen_space][1]\n",
        "\n",
        "  # Modify the empty spaces list so the chosen empty space is now the old agent's coords\n",
        "  empty_list[chosen_space] = (moving_agent[0], moving_agent[1])\n",
        "\n",
        "  # Swap the agent's color to the chosen empty space\n",
        "  temp = df[empty_x][empty_y]\n",
        "  df[empty_x][empty_y] = agent_color\n",
        "\n",
        "  # Empty the old agent's coordinates\n",
        "  df[moving_agent[0]][moving_agent[1]] = temp\n",
        "\n",
        "  # If this function was called when the policy is social network, the friends must be swapped\n",
        "  if (relocPolicy == \"socialNetwork\"):\n",
        "    swap_friends(friend_list, moving_agent, (empty_x, empty_y))   # swap_friends function defined later\n",
        "\n",
        "  return df"
      ]
    },
    {
      "cell_type": "markdown",
      "metadata": {},
      "source": [
        "# Policy 2 - Social Network Recommendation"
      ]
    },
    {
      "cell_type": "code",
      "execution_count": 12,
      "metadata": {
        "id": "RXIzzdr65f4e"
      },
      "outputs": [],
      "source": [
        "# Function: Give each agent a social network (friends)\n",
        "\n",
        "def calculate_friends(matrix_df):\n",
        "  # Get a list of all of the agent coordinates\n",
        "  agent_list = np.array([(i, j) for i in range(L) for j in range(L)])\n",
        "\n",
        "  friend_list = [[(n, n) for friend in range(friend_num)] for n in range(L * L)]\n",
        "\n",
        "  for agent in agent_list:\n",
        "    # Get the agent's color\n",
        "    agent_color =  matrix_df[agent[0]][agent[1]]\n",
        "\n",
        "    # If the coordinates are empty, there is no agent, no need for friends\n",
        "    if (agent_color == \"empty\"):\n",
        "      continue\n",
        "\n",
        "    # Create array to keep track of desired number of friends\n",
        "    add_friend = [n for n in range(friend_num)]\n",
        "\n",
        "    for friend in range(friend_num):\n",
        "      # Generate coordinate for friend randomly\n",
        "      friend_x = np.random.randint(0, L)\n",
        "      friend_y = np.random.randint(0, L)\n",
        "\n",
        "      # Add the new friend to the inner array\n",
        "      add_friend[friend] = (friend_x, friend_y)\n",
        "\n",
        "    # Add the complete list of friends to the list of all agents\n",
        "    friend_list[agent[0] * L + agent[1]] = add_friend\n",
        "\n",
        "  return friend_list"
      ]
    },
    {
      "cell_type": "code",
      "execution_count": 13,
      "metadata": {},
      "outputs": [],
      "source": [
        "# Function: Swap the social network of two agents\n",
        "\n",
        "def swap_friends(friend_list, coord1, coord2):\n",
        "  # Store each friend list\n",
        "  coord1friends = friend_list[coord1[0] * L + coord1[1]]\n",
        "  coord2friends = friend_list[coord2[0] * L + coord2[1]]\n",
        "\n",
        "  # Swap friend list\n",
        "  friend_list[coord1[0] * L + coord1[1]] = coord2friends\n",
        "  friend_list[coord2[0] * L + coord2[1]] = coord1friends"
      ]
    },
    {
      "cell_type": "code",
      "execution_count": 14,
      "metadata": {},
      "outputs": [],
      "source": [
        "# Function: Calculate the pxp neighborhood around an agent (via the agent's coordinates)\n",
        "\n",
        "def get_neighborhood(p, coordinate, df):\n",
        "  # Adjust p so that neighborhoods are correctly computed\n",
        "  p = int((p - 1) / 2)\n",
        "\n",
        "  # Extract coordinates of agent\n",
        "  row = coordinate[0]\n",
        "  col = coordinate[1]\n",
        "\n",
        "  # Keep track of the neighborhood coordinates\n",
        "  neighborhood = []\n",
        "\n",
        "  # Compute neighborhood bounds\n",
        "  left_bound = (row - p)\n",
        "  right_bound = (row + p)\n",
        "  upper_bound = (col - p )\n",
        "  lower_bound = (col + p)\n",
        "\n",
        "  # Add all neigborhood coordinates to list\n",
        "  for i in range(left_bound, (right_bound + 1)):\n",
        "    # Adjust coordinate for adding to neighborhood\n",
        "    adjusted_x = i % df.shape[0]\n",
        "\n",
        "    for j in range(upper_bound, (lower_bound + 1)):\n",
        "      # Adjust y coord\n",
        "      adjusted_y = j % df.shape[1]\n",
        "\n",
        "      # Add coordinate to neighborhood if it is not the original coord\n",
        "      if((adjusted_x,adjusted_y) != coordinate):\n",
        "        neighborhood.append((adjusted_x,adjusted_y))\n",
        "\n",
        "  return neighborhood"
      ]
    },
    {
      "cell_type": "code",
      "execution_count": 15,
      "metadata": {
        "id": "s9eNIvqn-B1N"
      },
      "outputs": [],
      "source": [
        "# Function for Policy 2 - Social Network Recommendation\n",
        "\n",
        "def friend_move(df, friend_list, moving_agent, empty_coords):\n",
        "  # Create a list of possible landing spots\n",
        "  possible_moves = []\n",
        "\n",
        "  # Get a list of all of the friends for the current agent\n",
        "  agent_friends = friend_list[moving_agent[0] * L + moving_agent[1]]\n",
        "\n",
        "  # Get the agent's color\n",
        "  agent_color =  df[moving_agent[0]][moving_agent[1]]\n",
        "\n",
        "  # Check every friend for the agent\n",
        "  for friend in agent_friends:\n",
        "    # Get the friend's coordinates\n",
        "    friend_x = friend[0]\n",
        "    friend_y = friend[1]\n",
        "\n",
        "    # Get the friend's neighborhood\n",
        "    neighbors_indices = get_neighborhood(p, friend, df)\n",
        "\n",
        "    # For every friend's neighbor, check if the agent would be happy\n",
        "    for neighbor in neighbors_indices:\n",
        "      # If this neighbor is not empty, the agent cannot move there\n",
        "      if df[neighbor[0]][neighbor[1]] != \"empty\":\n",
        "        continue\n",
        "\n",
        "      # Otherwise, this is a possible move and is to be added\n",
        "      possible_moves.append(neighbor)\n",
        "\n",
        "  # If there are no possible moves, use random move to decide where to go\n",
        "  if (len(possible_moves) == 0):\n",
        "    return random_move(df, empty_coords, moving_agent)\n",
        "\n",
        "  # Else, pick a random possible move, with preference for ones that make the agent happy\n",
        "\n",
        "  # Shuffle moves\n",
        "  np.random.shuffle(possible_moves)\n",
        "\n",
        "  i = 0\n",
        "  agent_happy = False\n",
        "\n",
        "  # Loop until a desired move is found or until we check every array location\n",
        "  while (i < len(possible_moves) and not(agent_happy)):\n",
        "    agent_happy = is_happy(df, possible_moves[i], agent_color)\n",
        "    i += 1\n",
        "\n",
        "  # The last move at i will be where the agent moves\n",
        "  if (i == len(possible_moves)):\n",
        "    wanted_move = possible_moves[i - 1]\n",
        "  else:\n",
        "    wanted_move = possible_moves[i]\n",
        "\n",
        "  # Swap the agent's color to the chosen empty space\n",
        "  temp = df[wanted_move[0]][wanted_move[1]]\n",
        "  df[wanted_move[0]][wanted_move[1]] = agent_color\n",
        "\n",
        "  # Empty the old agent's coordinates\n",
        "  df[moving_agent[0]][moving_agent[1]] = temp\n",
        "\n",
        "  # Swap friends_list so agent retains his friends\n",
        "  swap_friends(friend_list, moving_agent, wanted_move)\n",
        "\n",
        "  return df"
      ]
    },
    {
      "cell_type": "markdown",
      "metadata": {},
      "source": [
        "# Custom Policy 1 by Juan Alvarado\n",
        "\n",
        "This policy is similar to the random policy, but in this policy the agent\n",
        "simply chooses a location truly at random and moves there, regardless of if the\n",
        "location is empty or not. If it is not empty, the agent swaps places with the\n",
        "agent currently located at that location. This policy will maximize noise, which\n",
        "I am hoping helps the system reach a higher level of happiness than with the other\n",
        "more restrictive policies. In a nutshell, this is a random move with displacement allowed."
      ]
    },
    {
      "cell_type": "code",
      "execution_count": 16,
      "metadata": {
        "id": "pODeZ0x7xWK7"
      },
      "outputs": [],
      "source": [
        "# Function for Custom Policy 1 by Juan Alvarado\n",
        "\n",
        "def custom1_move(df, moving_agent):\n",
        "  x_move = np.random.randint(0, L)\n",
        "  y_move = np.random.randint(0, L)\n",
        "\n",
        "  # Get the agent's color\n",
        "  agent_color =  df[moving_agent[0]][moving_agent[1]]\n",
        "\n",
        "  # Swap the agent's color to the chosen empty space\n",
        "  temp = df[x_move][y_move]\n",
        "  df[x_move][y_move] = agent_color\n",
        "\n",
        "  # Empty the old agent's coordinates\n",
        "  df[moving_agent[0]][moving_agent[1]] = temp\n",
        "\n",
        "  return df"
      ]
    },
    {
      "cell_type": "markdown",
      "metadata": {},
      "source": [
        "# Custom Policy 2 by Christian Galang\n",
        "\n"
      ]
    },
    {
      "cell_type": "markdown",
      "metadata": {},
      "source": [
        "This policy is also derived from the random policy, except the agent won't simply go to the first location where it will be happy. If there are several location options where the agent will be 100% happy, the agent's preference will be the location where the average happiness of each of its neighbors of the same color is the highest. Intuitively, the aim of this policy is for agents to move to larger masses of their own color."
      ]
    },
    {
      "cell_type": "code",
      "execution_count": 17,
      "metadata": {},
      "outputs": [],
      "source": [
        "# Function: Calculate the average happiness of a neighborhood for a certain color\n",
        "\n",
        "def get_neighborhood_happiness_avg(df, coords, color):\n",
        "  # Keep track of happiness sum to average at the end\n",
        "  avg = 0\n",
        "\n",
        "  # Get the number of neighbors which share the same color as the agent\n",
        "  n = num_same_neighbors(df, coords, color)\n",
        "\n",
        "  # If no neighbors share the same color as the agent, return a happiness\n",
        "  # average of 0\n",
        "  if n == 0:\n",
        "    return 0\n",
        "  \n",
        "  # Otherwise, compute the happiness average of this neighborhood\n",
        "  neighborhood = get_neighborhood(3, coords, df)\n",
        "  for neighbor in neighborhood:\n",
        "    # Only include neighbors which share the same color as the agent in the average\n",
        "    if df[neighbor[0]][neighbor[1]] == color:\n",
        "      avg += happiness_function(df, neighbor, color)\n",
        "  return (avg / n)"
      ]
    },
    {
      "cell_type": "code",
      "execution_count": 18,
      "metadata": {
        "id": "T36ITVdda8e4"
      },
      "outputs": [],
      "source": [
        "# Function for Custom Policy 2 by Christian Galang\n",
        "\n",
        "def custom2_move(df, empty_list, moving_agent):\n",
        "  # Get the agent's color\n",
        "  agent_color = df[moving_agent[0]][moving_agent[1]]\n",
        "\n",
        "  # Keep track of happy coordinates\n",
        "  happy_coords = []\n",
        "\n",
        "  # Keep track of happiness of unhappy locations in case there's no happy locations\n",
        "  unhappy_list = []\n",
        "\n",
        "  # Obtain the coordinates of all \"happy\" locations and the happiness\n",
        "  # of all \"unhappy\" locations\n",
        "  for i in range(q):\n",
        "    chosen_space = np.random.randint(0, len(empty_list))\n",
        "    if (is_happy(df, empty_list[chosen_space], agent_color)):\n",
        "      happy_coords.append(empty_list[chosen_space])\n",
        "    else:\n",
        "      unhappy_list.append((happiness_function(df, empty_list[chosen_space], agent_color), empty_list[chosen_space]))\n",
        "\n",
        "  # If no spot was found where the agent is happy, move to the happiest\n",
        "  # Otherwise, move to the location where the average happiness of the neighbors\n",
        "  # of the same color is the highest\n",
        "  if not happy_coords:\n",
        "    chosen_space = max(unhappy_list)[1]\n",
        "  else:\n",
        "    neighborhood_happiness_avg = -1\n",
        "    for idx in range(len(happy_coords)):\n",
        "      temp_avg = get_neighborhood_happiness_avg(df, happy_coords[idx], agent_color)\n",
        "      if (temp_avg > neighborhood_happiness_avg):\n",
        "        chosen_space = happy_coords[idx]\n",
        "\n",
        "  # Extract the coordinates for the chosen empty space\n",
        "  empty_x = chosen_space[0]\n",
        "  empty_y = chosen_space[1]\n",
        "\n",
        "  # Swap the agent's color to the chosen empty space\n",
        "  temp = df[empty_x][empty_y]\n",
        "  df[empty_x][empty_y] = agent_color\n",
        "\n",
        "  # Empty the old agent's coordinates\n",
        "  df[moving_agent[0]][moving_agent[1]] = temp\n",
        "\n",
        "  return df"
      ]
    },
    {
      "cell_type": "markdown",
      "metadata": {},
      "source": [
        "# Custom Policy 3 by Marshal Packard"
      ]
    },
    {
      "cell_type": "code",
      "execution_count": 19,
      "metadata": {
        "id": "gf0B8VFha8z_"
      },
      "outputs": [],
      "source": [
        "# Function for Custom Policy 3 by Marshal Packard\n",
        "\n",
        "def custom3_move(df):\n",
        "  return df"
      ]
    },
    {
      "cell_type": "markdown",
      "metadata": {},
      "source": [
        "# Custom Policy 4 by Ahmed Zayed"
      ]
    },
    {
      "cell_type": "code",
      "execution_count": 20,
      "metadata": {
        "id": "f6gctUfSa88N"
      },
      "outputs": [],
      "source": [
        "# Function for Custom Policy 4 by Ahmed Zayed\n",
        "\n",
        "def custom4_move(df):\n",
        "  return df"
      ]
    },
    {
      "cell_type": "markdown",
      "metadata": {},
      "source": [
        "# Run Simulation"
      ]
    },
    {
      "cell_type": "code",
      "execution_count": 21,
      "metadata": {
        "colab": {
          "base_uri": "https://localhost:8080/",
          "height": 701
        },
        "id": "ap1ZBG1k4GLB",
        "outputId": "9a8d9812-d2e8-4dc9-bea5-624ad9233cae"
      },
      "outputs": [
        {
          "data": {
            "image/png": "[encoded data removed]",
            "text/plain": [
              "<Figure size 800x800 with 2 Axes>"
            ]
          },
          "metadata": {},
          "output_type": "display_data"
        },
        {
          "data": {
            "text/plain": [
              "None"
            ]
          },
          "metadata": {},
          "output_type": "display_data"
        },
        {
          "name": "stdout",
          "output_type": "stream",
          "text": [
            "Epoch 0 Happiness Percentage: 67.9375%\n",
            "Epoch 1 Happiness Percentage: 79.0625%\n",
            "Epoch 2 Happiness Percentage: 81.9375%\n",
            "Epoch 3 Happiness Percentage: 84.5625%\n",
            "Epoch 4 Happiness Percentage: 85.625%\n",
            "Epoch 5 Happiness Percentage: 86.1875%\n",
            "Epoch 6 Happiness Percentage: 86.5%\n",
            "Epoch 7 Happiness Percentage: 87.25%\n",
            "Epoch 8 Happiness Percentage: 87.6875%\n",
            "Epoch 9 Happiness Percentage: 88.0625%\n",
            "Epoch 10 Happiness Percentage: 88.1875%\n",
            "Epoch 11 Happiness Percentage: 88.3125%\n",
            "Epoch 12 Happiness Percentage: 88.5%\n",
            "Epoch 13 Happiness Percentage: 88.5625%\n",
            "Epoch 14 Happiness Percentage: 89.1875%\n",
            "Epoch 15 Happiness Percentage: 89.25%\n",
            "Epoch 16 Happiness Percentage: 89.1875%\n",
            "Epoch 17 Happiness Percentage: 89.375%\n",
            "Epoch 18 Happiness Percentage: 89.3125%\n",
            "Epoch 19 Happiness Percentage: 89.375%\n",
            "Epoch 20 Happiness Percentage: 89.5%\n"
          ]
        }
      ],
      "source": [
        "%matplotlib inline\n",
        "\n",
        "# Create array for happiness percentage\n",
        "happiness = [n for n in range(N)]\n",
        "\n",
        "# Create friend array if using social network policy\n",
        "if (relocPolicy == \"socialNetwork\"):\n",
        "  friend_list = calculate_friends(df)\n",
        "\n",
        "for epoch in range(N):\n",
        "  # Collect a list of all empty spaces\n",
        "  empty_coords = collect_empty_spaces(matrix)\n",
        "\n",
        "  # Get random order of coordinates to update agents for this particular epoch\n",
        "  epoch_coords = np.array([(i, j) for i in range(L) for j in range(L)])\n",
        "  np.random.shuffle(epoch_coords)\n",
        "\n",
        "  # Get the % of happiness at the start of the epoch\n",
        "  happiness[epoch] = percent_happy(df)\n",
        "\n",
        "  # Print matrix at the start of the epoch\n",
        "  print_matrix(df)\n",
        "\n",
        "  # Check every agent in this epoch\n",
        "  for coordinate in epoch_coords:\n",
        "    # Store the current color of agent\n",
        "    current_color = df[coordinate[0]][coordinate[1]]\n",
        "\n",
        "    # If the color is empty, there is no agent here\n",
        "    if (current_color == \"empty\"):\n",
        "      continue\n",
        "\n",
        "    # If the agent is happy there is no need to move\n",
        "    if is_happy(df, coordinate, df[coordinate[0]][coordinate[1]]):\n",
        "      continue\n",
        "\n",
        "    # According to the chosen relocation policy, move the agent\n",
        "    if(relocPolicy == \"random\"):\n",
        "      df = random_move(df, empty_coords, coordinate)\n",
        "    elif(relocPolicy == \"socialNetwork\"):\n",
        "      df = friend_move(df, friend_list, coordinate, empty_coords)\n",
        "    elif(relocPolicy == \"custom1\"):\n",
        "      df = custom1_move(df, coordinate)\n",
        "    elif(relocPolicy == \"custom2\"):\n",
        "      df = custom2_move(df, empty_coords, coordinate)\n",
        "    elif(relocPolicy == \"custom3\"):\n",
        "      df = custom3_move(df)\n",
        "    elif(relocPolicy == \"custom4\"):\n",
        "      df = custom4_move(df)\n",
        "\n",
        "  # Print matrix after all agents move for the epoch\n",
        "  print_matrix(df)\n",
        "\n",
        "# Print % happiness progression\n",
        "for epoch in range(N):\n",
        "  print(f'Epoch {epoch} Happiness Percentage: {happiness[epoch]}%')\n",
        "print(f'Epoch {N} Happiness Percentage: {percent_happy(df)}%')"
      ]
    }
  ],
  "metadata": {
    "colab": {
      "provenance": []
    },
    "kernelspec": {
      "display_name": "Python 3",
      "name": "python3"
    },
    "language_info": {
      "codemirror_mode": {
        "name": "ipython",
        "version": 3
      },
      "file_extension": ".py",
      "mimetype": "text/x-python",
      "name": "python",
      "nbconvert_exporter": "python",
      "pygments_lexer": "ipython3",
      "version": "3.12.2"
    }
  },
  "nbformat": 4,
  "nbformat_minor": 0
}
