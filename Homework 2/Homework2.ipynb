{
  "nbformat": 4,
  "nbformat_minor": 0,
  "metadata": {
    "colab": {
      "provenance": []
    },
    "kernelspec": {
      "name": "python3",
      "display_name": "Python 3"
    },
    "language_info": {
      "name": "python"
    }
  },
  "cells": [
    {
      "cell_type": "code",
      "execution_count": 114,
      "metadata": {
        "id": "-pVTVgRkxSmV"
      },
      "outputs": [],
      "source": [
        "import pandas as pd\n",
        "import numpy as np\n",
        "import matplotlib.pyplot as plt\n",
        "import time\n",
        "import pylab as pl\n",
        "from IPython import display"
      ]
    },
    {
      "cell_type": "code",
      "source": [
        "#DEFINING KEY PARAMETERS\n",
        "\n",
        "#------------------------------------------------------------------------------\n",
        "#------------------------------------------------------------------------------\n",
        "#ANY PARAMETERS THAT WANT TO BE MODIFIED SHOULD BE MODIFIED HERE\n",
        "#length of matrix\n",
        "L = 40\n",
        "#number of neighbors for happines\n",
        "k = 3\n",
        "#number of epochs\n",
        "N = 20\n",
        "#ratio of \"red\" and \"blue\" cells\n",
        "ratio_RB = 0.88\n",
        "#Relocation policy (OPTIONS: random, socialNetwork, custom1, custom2, custom3, custom4)\n",
        "relocPolicy = \"socialNetwork\"\n",
        "#number of tries agents should go through in random relocation policy (q)\n",
        "q = 100\n",
        "#number of friends each agent has in the socialNetwork relocation policy (n)\n",
        "friend_num = 2\n",
        "#size of friend neighborhood to check (p)\n",
        "p = 3\n",
        "\n",
        "#------------------------------------------------------------------------------\n",
        "#------------------------------------------------------------------------------\n",
        "\n",
        "\n",
        "# Creating a 40x40 array filled with \"empty\" strings\n",
        "matrix = np.full((L, L), \"empty\", dtype=object)\n",
        "\n",
        "# Modify the matrix within the chosen cells with \"red\" and \"blue\"\n",
        "for i in range(int((ratio_RB*L**2)/2)):\n",
        "  #Get a random coordinate to replace with either red or blue\n",
        "  red_x = np.random.randint(0, L)\n",
        "  red_y = np.random.randint(0, L)\n",
        "  blue_x = np.random.randint(0, L)\n",
        "  blue_y = np.random.randint(0, L)\n",
        "\n",
        "  #keep searching for a coordinate space that's empty to place a new agent\n",
        "  while (matrix[red_x][red_y] != \"empty\"):\n",
        "    red_x = np.random.randint(0, L)\n",
        "    red_y = np.random.randint(0, L)\n",
        "\n",
        "  while(matrix[blue_x][blue_y] != \"empty\"):\n",
        "    blue_x = np.random.randint(0, L)\n",
        "    blue_y = np.random.randint(0, L)\n",
        "\n",
        "\n",
        "  #add the correct agent color to that coordinate\n",
        "  matrix[red_x][red_y] = \"red\"\n",
        "\n",
        "  matrix[blue_x][blue_y] = \"blue\"\n",
        "\n",
        "# Convert the matrix NumPy array to a pandas DataFrame\n",
        "df = pd.DataFrame(matrix)"
      ],
      "metadata": {
        "id": "Ex8-YPsi1B2Q"
      },
      "execution_count": 133,
      "outputs": []
    },
    {
      "cell_type": "code",
      "source": [
        "print_matrix(df) #if this function call does not work it's because the function is defined later in this code"
      ],
      "metadata": {
        "colab": {
          "base_uri": "https://localhost:8080/",
          "height": 683
        },
        "id": "QQNkvKgq1Dqa",
        "outputId": "128091d9-a972-4d31-8184-f6d46c36dd44"
      },
      "execution_count": 113,
      "outputs": [
        {
          "output_type": "display_data",
          "data": {
            "text/plain": [
              "<Figure size 800x800 with 2 Axes>"
            ],
            "image/png": "[encoded data removed]"
          },
          "metadata": {}
        },
        {
          "output_type": "display_data",
          "data": {
            "text/plain": [
              "None"
            ]
          },
          "metadata": {}
        }
      ]
    },
    {
      "cell_type": "code",
      "source": [
        "#code to count number of reds, blues, and empty spaces, mostly useful for debugging purposes\n",
        "num_red = 0\n",
        "num_blue = 0\n",
        "num_none = 0\n",
        "\n",
        "for i in range(L):\n",
        "  for j in range(L):\n",
        "    if (df[i][j] == \"red\"):\n",
        "      num_red = num_red + 1\n",
        "    elif (df[i][j] == \"blue\"):\n",
        "      num_blue = num_blue + 1\n",
        "    else:\n",
        "      num_none = num_none + 1\n",
        "\n",
        "\n",
        "print(\"red: \" + str(num_red))\n",
        "print(\"blue: \" + str(num_blue))\n",
        "print(\"empty: \" + str(num_none))\n"
      ],
      "metadata": {
        "colab": {
          "base_uri": "https://localhost:8080/"
        },
        "outputId": "f9a6b37b-1d13-43a5-a3fc-9ce13850830c",
        "id": "5gH4vIyU4Rof"
      },
      "execution_count": 115,
      "outputs": [
        {
          "output_type": "stream",
          "name": "stdout",
          "text": [
            "red: 703\n",
            "blue: 704\n",
            "empty: 193\n"
          ]
        }
      ]
    },
    {
      "cell_type": "code",
      "source": [
        "#function to evaluate if a specific agent is happy in their current neighborhood\n",
        "def is_happy(df, coords, agent_color):\n",
        "\n",
        "  #extracting the row and column values from the coordinate array\n",
        "  row = coords[0]\n",
        "  col = coords[1]\n",
        "\n",
        "  #creating varaible to keep track of how many neighbors are of the same color as agent\n",
        "  same_neighbors = 0\n",
        "\n",
        "  #calculating indexes of neighbors, making sure to loop back to other side of\n",
        "  #matrix to avoid border conditions\n",
        "  neighbors_indices = [\n",
        "        ((row-1) % df.shape[1], (col-1) % df.shape[1]),\n",
        "        ((row-1)  % df.shape[1], col),\n",
        "        ((row-1)  % df.shape[1], (col+1) % df.shape[1]),\n",
        "        (row, (col-1)  % df.shape[1] ),\n",
        "        (row, (col+1) % df.shape[1]),\n",
        "        ((row+1) % df.shape[0], (col-1)% df.shape[1]),\n",
        "        ((row+1) % df.shape[0], col),\n",
        "        ((row+1) % df.shape[0], (col+1) % df.shape[1])\n",
        "    ]\n",
        "\n",
        "  #check every neighbor index to see if it matches color with agent\n",
        "  for index in neighbors_indices:\n",
        "\n",
        "    #print(\"the neighbor at \" + str(index) + \" is \" + df[index[1]][index[0]])\n",
        "\n",
        "    if (df[index[1]][index[0]] == agent_color):\n",
        "      #if the current neighbor is the same color, increase the counter\n",
        "      same_neighbors = same_neighbors + 1\n",
        "\n",
        "  #if the number of neighbors with the same color are bigger than the parameter k,\n",
        "  #then return that the agent is happy, otherwise return False\n",
        "  if(same_neighbors >= k):\n",
        "    return True\n",
        "  else:\n",
        "    return False"
      ],
      "metadata": {
        "id": "EMJ5nRSVrfuV"
      },
      "execution_count": 116,
      "outputs": []
    },
    {
      "cell_type": "code",
      "source": [
        "#Function to calculate fractional happines of a spot for an agent\n",
        "def happiness_functon(df, coords, agent_color):\n",
        "\n",
        "  #extracting the row and column values from the coordinate array\n",
        "  row = coords[0]\n",
        "  col = coords[1]\n",
        "\n",
        "  #creating varaible to keep track of how many neighbors are of the same color as agent\n",
        "  same_neighbors = 0\n",
        "\n",
        "  #calculating indexes of neighbors, making sure to loop back to other side of\n",
        "  #matrix to avoid border conditions\n",
        "  neighbors_indices = [\n",
        "        ((row-1) % df.shape[1], (col-1) % df.shape[1]),\n",
        "        ((row-1)  % df.shape[1], col),\n",
        "        ((row-1)  % df.shape[1], (col+1) % df.shape[1]),\n",
        "        (row, (col-1)  % df.shape[1] ),\n",
        "        (row, (col+1) % df.shape[1]),\n",
        "        ((row+1) % df.shape[0], (col-1)% df.shape[1]),\n",
        "        ((row+1) % df.shape[0], col),\n",
        "        ((row+1) % df.shape[0], (col+1) % df.shape[1])\n",
        "    ]\n",
        "\n",
        "  #check every neighbor index to see if it matches color with agent\n",
        "  for index in neighbors_indices:\n",
        "\n",
        "    if (df[index[1]][index[0]] == agent_color):\n",
        "      #if the current neighbor is the same color, increase the counter\n",
        "      same_neighbors = same_neighbors + 1\n",
        "\n",
        "  #return a percentage based on k that tells you how close you are to the agent\n",
        "  #being happy, with the max percentage being 1\n",
        "  if (same_neighbors > k):\n",
        "    return 1\n",
        "  else:\n",
        "    return(same_neighbors/k)"
      ],
      "metadata": {
        "id": "P2sqWnTDfvhn"
      },
      "execution_count": 117,
      "outputs": []
    },
    {
      "cell_type": "code",
      "source": [
        "#function to collect a list of all coordinates with empty spaces\n",
        "def collect_empty_spaces(matrix):\n",
        "\n",
        "  #initialize empty list\n",
        "  empty_coords = []\n",
        "\n",
        "  #iterate through dataframe and add the coordiante to the list if the location is empty\n",
        "  for i in range(matrix.shape[0]):\n",
        "    for  j in range(matrix.shape[1]):\n",
        "      if matrix[i, j] == \"empty\":\n",
        "        empty_coords.append((i,j))\n",
        "\n",
        "  return empty_coords"
      ],
      "metadata": {
        "id": "Gl1aBZPj21wy"
      },
      "execution_count": 9,
      "outputs": []
    },
    {
      "cell_type": "code",
      "source": [
        "#random move policy\n",
        "def random_move(df, empty_list, moving_agent):\n",
        "\n",
        "  #getting the agent's color\n",
        "  agent_color =  df[moving_agent[0]][moving_agent[1]]\n",
        "\n",
        "  #choosing one of the empty spaces at random\n",
        "  chosen_space = np.random.randint(0, len(empty_list))\n",
        "\n",
        "  #variable to keep track of the tries to find a good spot\n",
        "  num_tries = 0\n",
        "\n",
        "  #list to keep track of happines value of each option\n",
        "  happy_list = []\n",
        "\n",
        "  #keep trying a space until one is found that is good for the agent or the tries run out\n",
        "  while ((not(is_happy(df, empty_list[chosen_space], agent_color))) and (num_tries < q)):\n",
        "    chosen_space = np.random.randint(0, len(empty_list))\n",
        "    #every time append the happiness rating and the coordinate to the list\n",
        "    happy_list.append((happiness_functon(df, empty_list[chosen_space], agent_color), empty_list[chosen_space]))\n",
        "    num_tries = num_tries + 1\n",
        "\n",
        "  #if no spot was found where the agent is happy, move to the happiest\n",
        "  if (not(is_happy(df, empty_list[chosen_space], agent_color))):\n",
        "    chosen_space = max(happy_list)[1]\n",
        "\n",
        "  #extracting the coordinates for the chosen empty space\n",
        "  empty_x = empty_list[chosen_space][0]\n",
        "  empty_y = empty_list[chosen_space][1]\n",
        "\n",
        "  #modifying the empty spaces list so the chosen empty space is now the old agent's coords\n",
        "  empty_list[chosen_space] = (moving_agent[0], moving_agent[1])\n",
        "\n",
        "  #swapping the agent's color to the chosen empty space\n",
        "  temp = df[empty_x][empty_y]\n",
        "  df[empty_x][empty_y] = agent_color\n",
        "\n",
        "  #emptying the old agent's coordinates\n",
        "  df[moving_agent[0]][moving_agent[1]] = temp\n",
        "\n",
        "  #if this function was called when the policy is social network, the friends must be swapped\n",
        "  if (relocPolicy == \"socialNetwork\"):\n",
        "    swap_friends(friend_list, moving_agent, (empty_x, empty_y))\n",
        "\n",
        "  return df"
      ],
      "metadata": {
        "id": "-fjAGWHQheau"
      },
      "execution_count": 125,
      "outputs": []
    },
    {
      "cell_type": "code",
      "source": [
        "list = [(1,1000), (99,1)]\n",
        "tim = max(list)\n",
        "tim"
      ],
      "metadata": {
        "colab": {
          "base_uri": "https://localhost:8080/"
        },
        "id": "E4LCLyJFg_jW",
        "outputId": "f1e105ea-0767-49ab-9574-f057f9f041f9"
      },
      "execution_count": 121,
      "outputs": [
        {
          "output_type": "execute_result",
          "data": {
            "text/plain": [
              "(99, 1)"
            ]
          },
          "metadata": {},
          "execution_count": 121
        }
      ]
    },
    {
      "cell_type": "code",
      "source": [
        "#function to print the matrix\n",
        "def print_matrix(matrixDF):\n",
        "  # copy originaly dataframe into a new DF to use for plotting\n",
        "  df_plot = matrixDF.copy()\n",
        "\n",
        "  # Convert \"red\" and \"blue\" to numerical values for plotting\n",
        "  df_plot.replace({\"empty\": 0, \"red\": 1, \"blue\": 2}, inplace=True)\n",
        "\n",
        "  #display new matrix dataframe\n",
        "  #CLEAR display.display(pl.clf())\n",
        "  plt.figure(figsize=(8, 8))\n",
        "  plt.imshow(df_plot, cmap='viridis', interpolation='nearest')\n",
        "  plt.colorbar(ticks=[0, 1, 2], label='Color')\n",
        "  plt.title('Neighborhood')\n",
        "  display.clear_output(wait=True)\n",
        "  display.display(plt.show())\n",
        "  #WAIT time.sleep(1.0)"
      ],
      "metadata": {
        "id": "oy4y4M3qnTlh"
      },
      "execution_count": 11,
      "outputs": []
    },
    {
      "cell_type": "code",
      "source": [
        "#function to calculate the % of happy agents\n",
        "def percent_happy(df):\n",
        "\n",
        "  happy_agents = 0\n",
        "\n",
        "  for i in range(L):\n",
        "    for j in range(L):\n",
        "      if (is_happy(df,(i,j),df[i][j])):\n",
        "        happy_agents = happy_agents + 1\n",
        "\n",
        "  return (happy_agents/(L*L))*100"
      ],
      "metadata": {
        "id": "jIgAHBN-tfF_"
      },
      "execution_count": 12,
      "outputs": []
    },
    {
      "cell_type": "code",
      "source": [
        "#function to give each agent a social network\n",
        "def calculate_friends(matrix_df):\n",
        "\n",
        "  #get a list of all of the agent coordinates\n",
        "  agent_list = np.array([(i, j) for i in range(L) for j in range(L)])\n",
        "\n",
        "  friend_list = [[(n, n) for friend in range(friend_num)] for n in range(L*L)]\n",
        "\n",
        "  for agent in agent_list:\n",
        "\n",
        "    #getting the agent's color\n",
        "    agent_color =  matrix_df[agent[0]][agent[1]]\n",
        "\n",
        "    #if the coordinates are empty, there is no agent, no need for friends\n",
        "    if (agent_color == \"empty\"):\n",
        "      continue\n",
        "\n",
        "    #create array to keep track of desired number of friends\n",
        "    add_friend = [n for n in range(friend_num)]\n",
        "\n",
        "    for friend in range(friend_num):\n",
        "      #generate coordante for friend randomly\n",
        "      friend_x = np.random.randint(0, L)\n",
        "      friend_y = np.random.randint(0, L)\n",
        "\n",
        "      #add the new friend to the inner array\n",
        "      add_friend[friend] = (friend_x, friend_y)\n",
        "\n",
        "    #add the complete list of friends to the list of all agents\n",
        "    friend_list[agent[0]*L+agent[1]] = add_friend\n",
        "\n",
        "  return friend_list"
      ],
      "metadata": {
        "id": "RXIzzdr65f4e"
      },
      "execution_count": 96,
      "outputs": []
    },
    {
      "cell_type": "code",
      "source": [
        "#SocialNetwork movement policy\n",
        "def friend_move(df, friend_list, moving_agent, empty_coords):\n",
        "\n",
        "  #create a list of possible landing spots\n",
        "  possible_moves = []\n",
        "\n",
        "  #get a list of all of the friends for the current agent\n",
        "  agent_friends = friend_list[moving_agent[0]*L+moving_agent[1]]\n",
        "\n",
        "  #getting the agent's color\n",
        "  agent_color =  df[moving_agent[0]][moving_agent[1]]\n",
        "\n",
        "  #check every friend for the agent\n",
        "  for friend in agent_friends:\n",
        "\n",
        "    #getting friend coordiantes\n",
        "    friend_x = friend[0]\n",
        "    friend_y = friend[1]\n",
        "\n",
        "    #get the friend's neighborhood\n",
        "    neighbors_indices = get_neighborhood(p, friend, df)\n",
        "\n",
        "    #for every friend's neighbor, check if the agent would be happy\n",
        "    for neighbor in neighbors_indices:\n",
        "\n",
        "      #if this neighbor is not empty the agent cannot move there\n",
        "      if df[neighbor[0]][neighbor[1]] != \"empty\":\n",
        "        continue\n",
        "\n",
        "      #otherwise, this is a possible move and is to be added\n",
        "      possible_moves.append(neighbor)\n",
        "\n",
        "  #if there are no possible moves, use random move to decide where to go\n",
        "  if (len(possible_moves) == 0):\n",
        "    return random_move(df, empty_coords, moving_agent)\n",
        "\n",
        "  #else, pick a random possible move, with preference for ones that make the agent happy\n",
        "\n",
        "  #shuffle moves\n",
        "  np.random.shuffle(possible_moves)\n",
        "\n",
        "  i = 0\n",
        "  agent_happy = False\n",
        "\n",
        "  #loop until a desired move is found or until we check every array location\n",
        "  while(i < len(possible_moves) and not(agent_happy)):\n",
        "    agent_happy = is_happy(df, possible_moves[i], agent_color)\n",
        "    i = i + 1\n",
        "\n",
        "  #the last move at i will be where the agent moves\n",
        "  if(i == len(possible_moves)):\n",
        "    wanted_move = possible_moves[i - 1]\n",
        "  else:\n",
        "    wanted_move = possible_moves[i]\n",
        "\n",
        "  #swapping the agent's color to the chosen empty space\n",
        "  temp = df[wanted_move[0]][wanted_move[1]]\n",
        "  df[wanted_move[0]][wanted_move[1]] = agent_color\n",
        "\n",
        "  #emptying the old agent's coordinates\n",
        "  df[moving_agent[0]][moving_agent[1]] = temp\n",
        "\n",
        "  #swapping friends_list so agent retains his friends\n",
        "  swap_friends(friend_list, moving_agent, wanted_move)\n",
        "\n",
        "  return df\n"
      ],
      "metadata": {
        "id": "s9eNIvqn-B1N"
      },
      "execution_count": 99,
      "outputs": []
    },
    {
      "cell_type": "code",
      "source": [
        "#fucntion to swap the social network of two agents\n",
        "def swap_friends(friend_list, coord1, coord2):\n",
        "\n",
        "  #storing each friend list\n",
        "  coord1friends = friend_list[coord1[0]*L+coord1[1]]\n",
        "  coord2friends = friend_list[coord2[0]*L+coord2[1]]\n",
        "\n",
        "  #swapping friend list\n",
        "  friend_list[coord1[0]*L+coord1[1]] = coord2friends\n",
        "\n",
        "  friend_list[coord2[0]*L+coord2[1]] = coord1friends"
      ],
      "metadata": {
        "id": "1PNbT3-cEkLk"
      },
      "execution_count": 65,
      "outputs": []
    },
    {
      "cell_type": "code",
      "source": [
        "#function to calcualte the pxp neighborhood around an agent (via the agent's coordinates)\n",
        "def get_neighborhood(p, coordinate, df):\n",
        "\n",
        "    #adjusting p so that neighborhoods are correctly computed\n",
        "    p = int((p - 1)/2)\n",
        "\n",
        "    #extracting coordinates of agent\n",
        "    row = coordinate[0]\n",
        "    col = coordinate[1]\n",
        "\n",
        "    neighborhood = []\n",
        "\n",
        "    #computing neighborhood bounds\n",
        "    left_bound = (row - p)\n",
        "    right_bound = (row + p)\n",
        "    upper_bound = (col - p )\n",
        "    lower_bound = (col + p)\n",
        "\n",
        "\n",
        "    #adding all neigborhood coordinates to list\n",
        "    for i in range(left_bound, (right_bound + 1)):\n",
        "      #adjust coordinate for adding to neighborhood\n",
        "      adjusted_x = i % df.shape[0]\n",
        "\n",
        "      for j in range(upper_bound, (lower_bound + 1)):\n",
        "        #adjust y coord\n",
        "        adjusted_y = j % df.shape[1]\n",
        "\n",
        "        #add coordinate to neighborhood if it is not original coord\n",
        "        if((adjusted_x,adjusted_y) != coordinate):\n",
        "          neighborhood.append((adjusted_x,adjusted_y))\n",
        "\n",
        "\n",
        "    return neighborhood"
      ],
      "metadata": {
        "id": "mhx_8BuOR690"
      },
      "execution_count": 92,
      "outputs": []
    },
    {
      "cell_type": "code",
      "source": [
        "#FIRST CUSTOM POLICY FOR MOVING (custom1) BY JUAN ALVARADO\n",
        "#This policy is similar to the random policy, but in this policy the agent\n",
        "#simply chooses a location truly at random and moves there, regardless of if the\n",
        "#location is empty or not. If it is not empty, the agent swaps places with the\n",
        "#agent currently located at that location. This policy will maximize noise, which\n",
        "#I am hoping helps the system reach a higher level of happiness than with the other\n",
        "#more restrictive policies. In a nutshell, this is a random move with displacement allowed\n",
        "def custom1_move(df, moving_agent):\n",
        "  x_move = np.random.randint(0, L)\n",
        "  y_move = np.random.randint(0, L)\n",
        "\n",
        "  #getting the agent's color\n",
        "  agent_color =  df[moving_agent[0]][moving_agent[1]]\n",
        "\n",
        "  #swapping the agent's color to the chosen empty space\n",
        "  temp = df[x_move][y_move]\n",
        "  df[x_move][y_move] = agent_color\n",
        "\n",
        "  #emptying the old agent's coordinates\n",
        "  df[moving_agent[0]][moving_agent[1]] = temp\n",
        "\n",
        "  return df"
      ],
      "metadata": {
        "id": "pODeZ0x7xWK7"
      },
      "execution_count": 109,
      "outputs": []
    },
    {
      "cell_type": "code",
      "source": [
        "def custom2_move(df):\n",
        "  return df"
      ],
      "metadata": {
        "id": "T36ITVdda8e4"
      },
      "execution_count": null,
      "outputs": []
    },
    {
      "cell_type": "code",
      "source": [
        "def custom3_move(df):\n",
        "  return df"
      ],
      "metadata": {
        "id": "gf0B8VFha8z_"
      },
      "execution_count": null,
      "outputs": []
    },
    {
      "cell_type": "code",
      "source": [
        "def custom4_move(df):\n",
        "  return df"
      ],
      "metadata": {
        "id": "f6gctUfSa88N"
      },
      "execution_count": null,
      "outputs": []
    },
    {
      "cell_type": "code",
      "source": [
        "#MAIN BLOCK OF CODE TO RUN SIMULATION\n",
        "%matplotlib inline\n",
        "\n",
        "#collecting a list of all empty spaces\n",
        "empty_coords = collect_empty_spaces(matrix)\n",
        "\n",
        "#creating array for happiness percentage\n",
        "happiness = [n for n in range(N)]\n",
        "\n",
        "#create friend arry if using social network policy\n",
        "if (relocPolicy == \"socialNetwork\"):\n",
        "  friend_list = calculate_friends(df)\n",
        "\n",
        "for epoch in range(N):\n",
        "\n",
        "  #getting random order of coordinates to update agents for this particular epoch\n",
        "  epoch_coords = np.array([(i, j) for i in range(L) for j in range(L)])\n",
        "  np.random.shuffle(epoch_coords)\n",
        "\n",
        "  #getting the % of happines at the start of the epoch\n",
        "  happiness[epoch] = percent_happy(df)\n",
        "\n",
        "  #printing matrix at the start of the epoch\n",
        "  print_matrix(df)\n",
        "\n",
        "  #checking every agent in this epoch\n",
        "  for coordinate in epoch_coords:\n",
        "\n",
        "    #storing the current color of agent\n",
        "    current_color = df[coordinate[0]][coordinate[1]]\n",
        "\n",
        "    #if the color is empty there is no agent here\n",
        "    if(current_color == \"empty\"):\n",
        "      continue\n",
        "\n",
        "    #if the agent is happy there is no need to move\n",
        "    if (is_happy(df, coordinate,df[coordinate[0]][coordinate[1]])):\n",
        "      continue\n",
        "\n",
        "    #according to the chosen relocation policy, move the agent\n",
        "    if(relocPolicy == \"random\"):\n",
        "      df = random_move(df, empty_coords, coordinate)\n",
        "    elif(relocPolicy == \"socialNetwork\"):\n",
        "      df = friend_move(df, friend_list, coordinate, empty_coords)\n",
        "    elif(relocPolicy == \"custom1\"):\n",
        "      df = custom1_move(df, coordinate)\n",
        "    elif(relocPolicy == \"custom2\"):\n",
        "      df = custom2_move(df)\n",
        "    elif(relocPolicy == \"custom3\"):\n",
        "      df = custom3_move(df)\n",
        "    elif(relocPolicy == \"custom4\"):\n",
        "      df = custom4_move(df)\n",
        "\n",
        "  #printing matrix after all agents move for the epoch\n",
        "  print_matrix(df)\n",
        "\n",
        "print(happiness)"
      ],
      "metadata": {
        "colab": {
          "base_uri": "https://localhost:8080/",
          "height": 701
        },
        "id": "ap1ZBG1k4GLB",
        "outputId": "9a8d9812-d2e8-4dc9-bea5-624ad9233cae"
      },
      "execution_count": 134,
      "outputs": [
        {
          "output_type": "display_data",
          "data": {
            "text/plain": [
              "<Figure size 800x800 with 2 Axes>"
            ],
            "image/png": "[encoded data removed]"
          },
          "metadata": {}
        },
        {
          "output_type": "display_data",
          "data": {
            "text/plain": [
              "None"
            ]
          },
          "metadata": {}
        },
        {
          "output_type": "stream",
          "name": "stdout",
          "text": [
            "[68.8125, 84.625, 86.9375, 88.375, 89.6875, 89.5, 90.0, 90.375, 90.375, 90.3125, 90.25, 90.8125, 90.375, 90.5, 90.5, 90.3125, 90.375, 90.3125, 90.625, 90.3125]\n"
          ]
        }
      ]
    }
  ]
}